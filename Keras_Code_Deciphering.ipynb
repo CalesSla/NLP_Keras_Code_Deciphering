{
 "cells": [
  {
   "cell_type": "markdown",
   "id": "6b577774",
   "metadata": {},
   "source": [
    "# Caesar code deciphering with keras"
   ]
  },
  {
   "cell_type": "markdown",
   "id": "a341820d",
   "metadata": {},
   "source": [
    "### Step 1. Data download and exploration"
   ]
  },
  {
   "cell_type": "code",
   "execution_count": 8,
   "id": "f1df2bc5",
   "metadata": {},
   "outputs": [],
   "source": [
    "import helper\n",
    "\n",
    "codes = helper.load_data('cipher.txt')\n",
    "plaintext = helper.load_data('plaintext.txt')"
   ]
  },
  {
   "cell_type": "code",
   "execution_count": 12,
   "id": "f31918a3",
   "metadata": {},
   "outputs": [
    {
     "name": "stdout",
     "output_type": "stream",
     "text": [
      "Examples of encoded messages: \n",
      "\n",
      "YMJ QNRJ NX MJW QJFXY QNPJI KWZNY , GZY YMJ GFSFSF NX RD QJFXY QNPJI .\n",
      "MJ XFB F TQI DJQQTB YWZHP .\n",
      "NSINF NX WFNSD IZWNSL OZSJ , FSI NY NX XTRJYNRJX BFWR NS STAJRGJW .\n"
     ]
    }
   ],
   "source": [
    "print('Examples of encoded messages: \\n', *codes[:3], sep = \"\\n\")"
   ]
  },
  {
   "cell_type": "code",
   "execution_count": null,
   "id": "879ea54c",
   "metadata": {},
   "outputs": [],
   "source": []
  }
 ],
 "metadata": {
  "kernelspec": {
   "display_name": "Python 3 (ipykernel)",
   "language": "python",
   "name": "python3"
  },
  "language_info": {
   "codemirror_mode": {
    "name": "ipython",
    "version": 3
   },
   "file_extension": ".py",
   "mimetype": "text/x-python",
   "name": "python",
   "nbconvert_exporter": "python",
   "pygments_lexer": "ipython3",
   "version": "3.10.9"
  }
 },
 "nbformat": 4,
 "nbformat_minor": 5
}
